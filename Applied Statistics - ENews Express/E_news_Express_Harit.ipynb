{
 "cells": [
  {
   "cell_type": "markdown",
   "metadata": {
    "id": "dsTY6ngpFsBX"
   },
   "source": [
    "# **Applied Statistics Project: E-news Express**"
   ]
  },
  {
   "cell_type": "markdown",
   "metadata": {
    "id": "wBrnVbYHF56P"
   },
   "source": [
    "## Description\n",
    "### Business Context\n",
    "The advent of e-news, or electronic news, portals has offered us a great opportunity to quickly get updates on the day-to-day events occurring globally. The information on these portals is retrieved electronically from online databases, processed using a variety of software, and then transmitted to the users. There are multiple advantages of transmitting news electronically, like faster access to the content and the ability to utilize different technologies such as audio, graphics, video, and other interactive elements that are either not being used or aren’t common yet in traditional newspapers.\n",
    "\n",
    "E-news Express, an online news portal, aims to expand its business by acquiring new subscribers. With every visitor to the website taking certain actions based on their interest, the company plans to analyze these actions to understand user interests and determine how to drive better engagement. The executives at E-news Express believe that there has been a decline in new monthly subscribers compared to the past year because the current webpage is not designed well enough in terms of the outline & recommended content to keep customers engaged long enough to decide to subscribe.\n",
    "\n",
    "[Companies often analyze user responses to two variants of a product to decide which of the two variants is more effective. This experimental technique, known as A/B testing, is used to determine whether a new feature attracts users based on a chosen metric.]\n"
   ]
  },
  {
   "cell_type": "markdown",
   "metadata": {
    "id": "yewod19HOikq"
   },
   "source": [
    "## Objective\n",
    "The design team of the company has researched and created a new landing page that has a new outline & more relevant content compared to the old page. To test the effectiveness of the new landing page in gathering new subscribers, the Data Science team experimented by randomly selecting 100 users and dividing them equally into two groups. The existing landing page was served to the first group (control group) and the new landing page to the second group (treatment group). Data regarding the interaction of users in both groups with the two versions of the landing page was collected. Being a data scientist in E-news Express, you have been asked to explore the data and perform a statistical analysis (at a significance level of 5%) to determine the effectiveness of the new landing page in gathering new subscribers for the news portal by answering the following questions:\n",
    "\n",
    "1. Do the users spend more time on the new landing page than on the existing landing page?\n",
    "2. Is the conversion rate (the proportion of users who visit the landing page and get converted) for the new page greater than the conversion rate for the old page?\n",
    "3. Does the converted status depend on the preferred language?\n",
    "4. Is the time spent on the new page the same for the different language users?\n",
    "\n",
    "\n",
    "\n",
    "## Data Dictionary\n",
    "The data contains information regarding the interaction of users in both groups with the two versions of the landing page.\n",
    "\n",
    "* user_id - Unique user ID of the person visiting the website\n",
    "* group - Whether the user belongs to the first group (control) or the second group (treatment)\n",
    "* landing_page - Whether the landing page is new or old\n",
    "* time_spent_on_the_page - Time (in minutes) spent by the user on the landing page\n",
    "* converted - Whether the user gets converted to a subscriber of the news portal or not\n",
    "* language_preferred - language chosen by the user to view the landing page"
   ]
  },
  {
   "cell_type": "markdown",
   "metadata": {
    "id": "uTU5-jPAHVbx"
   },
   "source": [
    "## **Initializing Project Code**"
   ]
  },
  {
   "cell_type": "markdown",
   "metadata": {
    "id": "vNAAJ9JnPxFY"
   },
   "source": [
    "### Importing Libraries"
   ]
  },
  {
   "cell_type": "code",
   "execution_count": 1,
   "metadata": {
    "id": "pcr-HmpWHgww"
   },
   "outputs": [],
   "source": [
    "#import required libraries\n",
    "import warnings\n",
    "warnings.filterwarnings(\"ignore\")\n",
    "import numpy as np\n",
    "import pandas as pd\n",
    "import seaborn as sns\n",
    "sns.set(color_codes=True)\n",
    "import matplotlib.pyplot as plt\n",
    "%matplotlib inline\n",
    "import scipy.stats as stats"
   ]
  },
  {
   "cell_type": "markdown",
   "metadata": {
    "id": "0wogmdRBIBCS"
   },
   "source": [
    "### Mounting Drive"
   ]
  },
  {
   "cell_type": "code",
   "execution_count": 2,
   "metadata": {
    "colab": {
     "base_uri": "https://localhost:8080/"
    },
    "id": "EZSf86ztIFvm",
    "outputId": "382c4ad9-51a5-4eaf-eb4d-807dadc3f349"
   },
   "outputs": [],
   "source": [
    "#connecting drive for Google Colab\n",
    "from google.colab import drive\n",
    "drive.mount('/content/drive')\n",
    "file_path = '/content/drive/MyDrive/PGP: AIML University Of Texas/Assignment - E-news Express/abtest.csv'\n",
    "\n",
    "# file_path = 'abtest.csv'"
   ]
  },
  {
   "cell_type": "markdown",
   "metadata": {
    "id": "28wuplA9QBDG"
   },
   "source": [
    "### Loading DataSet"
   ]
  },
  {
   "cell_type": "code",
   "execution_count": 3,
   "metadata": {
    "id": "5SNYHmlpJjw1"
   },
   "outputs": [],
   "source": [
    "# Read the CSV file\n",
    "df = pd.read_csv(file_path)"
   ]
  },
  {
   "cell_type": "markdown",
   "metadata": {
    "id": "OTASFBWSN5El"
   },
   "source": [
    "## **Exploratory Data Analysis**"
   ]
  },
  {
   "cell_type": "markdown",
   "metadata": {
    "id": "2C7ehAsomOG6"
   },
   "source": [
    "### Data Exploration\n"
   ]
  },
  {
   "cell_type": "markdown",
   "metadata": {
    "id": "xyhM-af7R2CL"
   },
   "source": [
    "#### Checking few rows\n"
   ]
  },
  {
   "cell_type": "code",
   "execution_count": 4,
   "metadata": {
    "colab": {
     "base_uri": "https://localhost:8080/"
    },
    "id": "BY5n5LbRSP2Z",
    "outputId": "f68e0788-5bfc-4003-91a1-b49ef92ebb5c"
   },
   "outputs": [
    {
     "name": "stdout",
     "output_type": "stream",
     "text": [
      "<bound method NDFrame.head of     user_id      group landing_page  time_spent_on_the_page converted  \\\n",
      "0    546592    control          old                    3.48        no   \n",
      "1    546468  treatment          new                    7.13       yes   \n",
      "2    546462  treatment          new                    4.40        no   \n",
      "3    546567    control          old                    3.02        no   \n",
      "4    546459  treatment          new                    4.75       yes   \n",
      "..      ...        ...          ...                     ...       ...   \n",
      "95   546446  treatment          new                    5.15        no   \n",
      "96   546544    control          old                    6.52       yes   \n",
      "97   546472  treatment          new                    7.07       yes   \n",
      "98   546481  treatment          new                    6.20       yes   \n",
      "99   546483  treatment          new                    5.86       yes   \n",
      "\n",
      "   language_preferred  \n",
      "0             Spanish  \n",
      "1             English  \n",
      "2             Spanish  \n",
      "3              French  \n",
      "4             Spanish  \n",
      "..                ...  \n",
      "95            Spanish  \n",
      "96            English  \n",
      "97            Spanish  \n",
      "98            Spanish  \n",
      "99            English  \n",
      "\n",
      "[100 rows x 6 columns]>\n"
     ]
    }
   ],
   "source": [
    "print(df.head)"
   ]
  },
  {
   "cell_type": "markdown",
   "metadata": {
    "id": "j2l1aGbqSv2x"
   },
   "source": [
    "#### Checking the shape of the dataset (Number of rows & columns)"
   ]
  },
  {
   "cell_type": "code",
   "execution_count": 5,
   "metadata": {
    "colab": {
     "base_uri": "https://localhost:8080/"
    },
    "id": "kGxeRH9WS4LY",
    "outputId": "84e25a1a-0c70-41a6-94b6-ae3318e53d9d"
   },
   "outputs": [
    {
     "name": "stdout",
     "output_type": "stream",
     "text": [
      "Rows count = 100 \n",
      "Columns count = 6\n"
     ]
    }
   ],
   "source": [
    "print('Rows count =',df.shape[0],'\\nColumns count =',df.shape[1])"
   ]
  },
  {
   "cell_type": "markdown",
   "metadata": {
    "id": "GU70wY82QeSw"
   },
   "source": [
    "#### Checking the data types of the columns for the dataset"
   ]
  },
  {
   "cell_type": "code",
   "execution_count": 6,
   "metadata": {
    "colab": {
     "base_uri": "https://localhost:8080/"
    },
    "id": "o-8yti9DTYfI",
    "outputId": "8dc0c9ad-d7b9-43dc-95f5-ff96f433da6c"
   },
   "outputs": [
    {
     "name": "stdout",
     "output_type": "stream",
     "text": [
      "<class 'pandas.core.frame.DataFrame'>\n",
      "RangeIndex: 100 entries, 0 to 99\n",
      "Data columns (total 6 columns):\n",
      " #   Column                  Non-Null Count  Dtype  \n",
      "---  ------                  --------------  -----  \n",
      " 0   user_id                 100 non-null    int64  \n",
      " 1   group                   100 non-null    object \n",
      " 2   landing_page            100 non-null    object \n",
      " 3   time_spent_on_the_page  100 non-null    float64\n",
      " 4   converted               100 non-null    object \n",
      " 5   language_preferred      100 non-null    object \n",
      "dtypes: float64(1), int64(1), object(4)\n",
      "memory usage: 4.8+ KB\n",
      "None\n"
     ]
    }
   ],
   "source": [
    "print(df.info())"
   ]
  },
  {
   "cell_type": "markdown",
   "metadata": {
    "id": "tWUg3z-zUvVb"
   },
   "source": [
    "**Observation** :\n",
    "* Numerical columns: user_id, time_spent_on_the_page\n",
    "* Categorical columns: group, landing page, converted and language_preferred"
   ]
  },
  {
   "cell_type": "markdown",
   "metadata": {
    "id": "bj0DDKroe7yD"
   },
   "source": [
    "#### Checking null/missing values"
   ]
  },
  {
   "cell_type": "code",
   "execution_count": 7,
   "metadata": {
    "colab": {
     "base_uri": "https://localhost:8080/"
    },
    "id": "XYj38erPfBgm",
    "outputId": "72fa6c03-6e3a-434d-ee0c-df9a7d5b2286"
   },
   "outputs": [
    {
     "name": "stdout",
     "output_type": "stream",
     "text": [
      "user_id                   0\n",
      "group                     0\n",
      "landing_page              0\n",
      "time_spent_on_the_page    0\n",
      "converted                 0\n",
      "language_preferred        0\n",
      "dtype: int64\n"
     ]
    }
   ],
   "source": [
    "print(df.isnull().sum())"
   ]
  },
  {
   "cell_type": "markdown",
   "metadata": {
    "id": "_dTJckdThSB9"
   },
   "source": [
    "**Observation**: No missing values in dataset"
   ]
  },
  {
   "cell_type": "markdown",
   "metadata": {
    "id": "w4z8OP5YXLl9"
   },
   "source": [
    "#### Getting the statistical summary for the numerical variables"
   ]
  },
  {
   "cell_type": "code",
   "execution_count": 8,
   "metadata": {
    "colab": {
     "base_uri": "https://localhost:8080/"
    },
    "id": "i3K6dTAUZTyh",
    "outputId": "83302f4c-92f6-4f52-a283-2373fa940a62"
   },
   "outputs": [
    {
     "name": "stdout",
     "output_type": "stream",
     "text": [
      "             user_id  time_spent_on_the_page\n",
      "count     100.000000              100.000000\n",
      "mean   546517.000000                5.377800\n",
      "std        52.295779                2.378166\n",
      "min    546443.000000                0.190000\n",
      "25%    546467.750000                3.880000\n",
      "50%    546492.500000                5.415000\n",
      "75%    546567.250000                7.022500\n",
      "max    546592.000000               10.710000\n"
     ]
    }
   ],
   "source": [
    "print(df.describe())"
   ]
  },
  {
   "cell_type": "markdown",
   "metadata": {
    "id": "0eQXzj9JbUmr"
   },
   "source": [
    "**Observations**:\n",
    "* The average time spent on the page is about 5.38 minutes with a standard deviation of 2.38 minutes\n",
    "* 50% of the entries spent less than 5.42 minutes on the page\n",
    "* The minimum time spent on the page was 0.19 minutes and the maximum time spent on the page was 10.71 minutes"
   ]
  },
  {
   "cell_type": "markdown",
   "metadata": {
    "id": "pzDtvXtFFpnj"
   },
   "source": [
    "#### Getting the statistical summary for the categorical variables"
   ]
  },
  {
   "cell_type": "code",
   "execution_count": 9,
   "metadata": {
    "colab": {
     "base_uri": "https://localhost:8080/"
    },
    "id": "D1jWterJb7P8",
    "outputId": "79f5ac2f-e782-4b1b-a363-2df275290b5d"
   },
   "outputs": [
    {
     "name": "stdout",
     "output_type": "stream",
     "text": [
      "            group landing_page converted language_preferred\n",
      "count         100          100       100                100\n",
      "unique          2            2         2                  3\n",
      "top     treatment          old       yes            Spanish\n",
      "freq           50           50        54                 34\n"
     ]
    }
   ],
   "source": [
    "print(df.describe(include = 'object'))"
   ]
  },
  {
   "cell_type": "markdown",
   "metadata": {
    "id": "-9DkWUmxdrlR"
   },
   "source": []
  },
  {
   "cell_type": "markdown",
   "metadata": {
    "id": "ge0rDWaIdXv9"
   },
   "source": [
    "### Univariate Analysis"
   ]
  },
  {
   "cell_type": "markdown",
   "metadata": {
    "id": "k88F5LiSiDwM"
   },
   "source": [
    "#### Column: Group"
   ]
  },
  {
   "cell_type": "code",
   "execution_count": 10,
   "metadata": {
    "colab": {
     "base_uri": "https://localhost:8080/",
     "height": 0
    },
    "id": "3283uOhbiQiX",
    "outputId": "a1039227-4fe3-4c40-9c58-40e197dbd563"
   },
   "outputs": [
    {
     "name": "stdout",
     "output_type": "stream",
     "text": [
      "treatment    50\n",
      "control      50\n",
      "Name: group, dtype: int64\n"
     ]
    },
    {
     "data": {
      "image/png": "[encoded data removed]",
      "text/plain": [
       "<Figure size 432x288 with 1 Axes>"
      ]
     },
     "metadata": {
      "needs_background": "light"
     },
     "output_type": "display_data"
    }
   ],
   "source": [
    "print(df['group'].value_counts())\n",
    "sns.countplot(data=df,x='group')\n",
    "plt.show()"
   ]
  },
  {
   "cell_type": "markdown",
   "metadata": {
    "id": "28SE4IOmithC"
   },
   "source": [
    "**Observation**: The values of group columns are equally divided into \"control\" and \"treatment\" categories."
   ]
  },
  {
   "cell_type": "markdown",
   "metadata": {
    "id": "Si3VI3UuisIb"
   },
   "source": [
    "#### Column: time_spent_on_the_page"
   ]
  },
  {
   "cell_type": "code",
   "execution_count": 11,
   "metadata": {
    "colab": {
     "base_uri": "https://localhost:8080/",
     "height": 0
    },
    "id": "kYEy8s5mi7FP",
    "outputId": "8a3efedd-0fcc-4540-f4c9-bf5943acdde2"
   },
   "outputs": [
    {
     "data": {
      "image/png": "[encoded data removed]",
      "text/plain": [
       "<Figure size 432x288 with 1 Axes>"
      ]
     },
     "metadata": {
      "needs_background": "light"
     },
     "output_type": "display_data"
    },
    {
     "data": {
      "image/png": "[encoded data removed]",
      "text/plain": [
       "<Figure size 432x288 with 1 Axes>"
      ]
     },
     "metadata": {
      "needs_background": "light"
     },
     "output_type": "display_data"
    }
   ],
   "source": [
    "sns.histplot(data=df,x='time_spent_on_the_page')\n",
    "plt.show()\n",
    "sns.boxplot(data=df,x='time_spent_on_the_page')\n",
    "plt.show()"
   ]
  },
  {
   "cell_type": "markdown",
   "metadata": {
    "id": "KQ7Yr2fCi9tY"
   },
   "source": [
    "**Observation** : The values of \"time_spent_on_the_page\" column appears to be normally distributed and does not have outliers."
   ]
  },
  {
   "cell_type": "markdown",
   "metadata": {
    "id": "HUpkeg0Fjfo8"
   },
   "source": [
    "#### Column: Landing_page"
   ]
  },
  {
   "cell_type": "code",
   "execution_count": 12,
   "metadata": {
    "colab": {
     "base_uri": "https://localhost:8080/",
     "height": 0
    },
    "id": "6BGg9NhTjkBk",
    "outputId": "2d5c8120-7181-4150-e338-18c4f3216085"
   },
   "outputs": [
    {
     "name": "stdout",
     "output_type": "stream",
     "text": [
      "old    50\n",
      "new    50\n",
      "Name: landing_page, dtype: int64\n"
     ]
    },
    {
     "data": {
      "image/png": "[encoded data removed]",
      "text/plain": [
       "<Figure size 432x288 with 1 Axes>"
      ]
     },
     "metadata": {
      "needs_background": "light"
     },
     "output_type": "display_data"
    }
   ],
   "source": [
    "print(df['landing_page'].value_counts())\n",
    "sns.countplot(data=df,x='landing_page')\n",
    "plt.show()"
   ]
  },
  {
   "cell_type": "markdown",
   "metadata": {
    "id": "AmWgbkNIkXfp"
   },
   "source": [
    "**Observation**: The values of \"landing_page\" column are equally divided into \"old\" and \"new\" categories."
   ]
  },
  {
   "cell_type": "markdown",
   "metadata": {
    "id": "ep0DneWKk3pN"
   },
   "source": [
    "#### Column: Converted"
   ]
  },
  {
   "cell_type": "code",
   "execution_count": 13,
   "metadata": {
    "colab": {
     "base_uri": "https://localhost:8080/",
     "height": 0
    },
    "id": "7H7_03Uak7bg",
    "outputId": "1ebafaf3-8a38-42fb-db76-6f9ebfb201fa"
   },
   "outputs": [
    {
     "name": "stdout",
     "output_type": "stream",
     "text": [
      "yes    54\n",
      "no     46\n",
      "Name: converted, dtype: int64\n"
     ]
    },
    {
     "data": {
      "image/png": "[encoded data removed]",
      "text/plain": [
       "<Figure size 432x288 with 1 Axes>"
      ]
     },
     "metadata": {
      "needs_background": "light"
     },
     "output_type": "display_data"
    }
   ],
   "source": [
    "print(df['converted'].value_counts())\n",
    "sns.countplot(data=df,x='converted')\n",
    "plt.show()"
   ]
  },
  {
   "cell_type": "markdown",
   "metadata": {
    "id": "wl15YnzdlC66"
   },
   "source": [
    "**Observation** : There are more people who converted to the new landing page."
   ]
  },
  {
   "cell_type": "markdown",
   "metadata": {
    "id": "ki-6biK0ljZh"
   },
   "source": [
    "#### Column: Language_preferred"
   ]
  },
  {
   "cell_type": "code",
   "execution_count": 14,
   "metadata": {
    "colab": {
     "base_uri": "https://localhost:8080/",
     "height": 0
    },
    "id": "O7qhjoqFlAcE",
    "outputId": "f325b897-c50e-4322-a917-6e1c5350c136"
   },
   "outputs": [
    {
     "name": "stdout",
     "output_type": "stream",
     "text": [
      "Spanish    34\n",
      "French     34\n",
      "English    32\n",
      "Name: language_preferred, dtype: int64\n"
     ]
    },
    {
     "data": {
      "image/png": "[encoded data removed]",
      "text/plain": [
       "<Figure size 432x288 with 1 Axes>"
      ]
     },
     "metadata": {
      "needs_background": "light"
     },
     "output_type": "display_data"
    }
   ],
   "source": [
    "print(df['language_preferred'].value_counts())\n",
    "sns.countplot(data=df,x='language_preferred')\n",
    "plt.show()"
   ]
  },
  {
   "cell_type": "markdown",
   "metadata": {
    "id": "xjRqSjBkmhLW"
   },
   "source": [
    "### Bivariate/Multivariate Analysis\n"
   ]
  },
  {
   "cell_type": "markdown",
   "metadata": {
    "id": "tWqq4gHamxob"
   },
   "source": [
    "#### Columns: Landing_page and Time_spent_on_the_page"
   ]
  },
  {
   "cell_type": "code",
   "execution_count": 15,
   "metadata": {
    "colab": {
     "base_uri": "https://localhost:8080/",
     "height": 0
    },
    "id": "P52YZey0nERc",
    "outputId": "4c46152a-5032-42d3-da01-f250f2a5c380"
   },
   "outputs": [
    {
     "data": {
      "image/png": "[encoded data removed]",
      "text/plain": [
       "<Figure size 432x288 with 1 Axes>"
      ]
     },
     "metadata": {
      "needs_background": "light"
     },
     "output_type": "display_data"
    },
    {
     "data": {
      "image/png": "[encoded data removed]",
      "text/plain": [
       "<Figure size 432x288 with 1 Axes>"
      ]
     },
     "metadata": {
      "needs_background": "light"
     },
     "output_type": "display_data"
    }
   ],
   "source": [
    "sns.barplot(data = df, x = 'landing_page', y = 'time_spent_on_the_page')\n",
    "plt.show()\n",
    "sns.boxplot(data=df,x='landing_page',y='time_spent_on_the_page')\n",
    "plt.show()"
   ]
  },
  {
   "cell_type": "markdown",
   "metadata": {
    "id": "pb2KapwmnTfL"
   },
   "source": [
    "#### Columns: Conversion_status and Time_spent_on_the_page"
   ]
  },
  {
   "cell_type": "code",
   "execution_count": 16,
   "metadata": {
    "colab": {
     "base_uri": "https://localhost:8080/",
     "height": 0
    },
    "id": "bPzC1HlCna4K",
    "outputId": "5a90a5ba-fffc-4c5d-8023-67fdca71d60c"
   },
   "outputs": [
    {
     "data": {
      "image/png": "[encoded data removed]",
      "text/plain": [
       "<Figure size 432x288 with 1 Axes>"
      ]
     },
     "metadata": {
      "needs_background": "light"
     },
     "output_type": "display_data"
    },
    {
     "data": {
      "image/png": "[encoded data removed]",
      "text/plain": [
       "<Figure size 432x288 with 1 Axes>"
      ]
     },
     "metadata": {
      "needs_background": "light"
     },
     "output_type": "display_data"
    }
   ],
   "source": [
    "sns.barplot(data = df, x = 'converted', y = 'time_spent_on_the_page')\n",
    "plt.show()\n",
    "sns.boxplot(data = df, x = 'converted', y = 'time_spent_on_the_page')\n",
    "plt.show()"
   ]
  },
  {
   "cell_type": "markdown",
   "metadata": {
    "id": "rVKhmhp4p_Tm"
   },
   "source": [
    "**Observation**: The converted audience spend more time on the page.\n"
   ]
  },
  {
   "cell_type": "markdown",
   "metadata": {
    "id": "geRFkNAfq0Qj"
   },
   "source": [
    "#### Columns: Language_preferred and Time_spent_on_the_page"
   ]
  },
  {
   "cell_type": "code",
   "execution_count": 17,
   "metadata": {
    "colab": {
     "base_uri": "https://localhost:8080/",
     "height": 0
    },
    "id": "VY4mVvS0q7VL",
    "outputId": "386cec7d-fd6e-4117-f248-61f1d9b04c2d"
   },
   "outputs": [
    {
     "data": {
      "image/png": "[encoded data removed]",
      "text/plain": [
       "<Figure size 432x288 with 1 Axes>"
      ]
     },
     "metadata": {
      "needs_background": "light"
     },
     "output_type": "display_data"
    },
    {
     "data": {
      "image/png": "[encoded data removed]",
      "text/plain": [
       "<Figure size 432x288 with 1 Axes>"
      ]
     },
     "metadata": {
      "needs_background": "light"
     },
     "output_type": "display_data"
    }
   ],
   "source": [
    "sns.barplot(data = df, x = 'language_preferred', y = 'time_spent_on_the_page')\n",
    "plt.show()\n",
    "sns.boxplot(data = df, x = 'language_preferred', y = 'time_spent_on_the_page')\n",
    "plt.show()"
   ]
  },
  {
   "cell_type": "markdown",
   "metadata": {
    "id": "d4ZHzeZJruAN"
   },
   "source": [
    "#### Columns: Language_preferred, Conversion_status and Time_spent_on_the_page"
   ]
  },
  {
   "cell_type": "code",
   "execution_count": 18,
   "metadata": {
    "colab": {
     "base_uri": "https://localhost:8080/",
     "height": 0
    },
    "id": "TtmmqDUgnK8v",
    "outputId": "1fe74e5f-ed4b-42ae-9757-f7df82f2557a"
   },
   "outputs": [
    {
     "data": {
      "text/plain": [
       "<seaborn.axisgrid.FacetGrid at 0x28b860ca910>"
      ]
     },
     "execution_count": 18,
     "metadata": {},
     "output_type": "execute_result"
    },
    {
     "data": {
      "image/png": "[encoded data removed]",
      "text/plain": [
       "<Figure size 781.55x360 with 2 Axes>"
      ]
     },
     "metadata": {
      "needs_background": "light"
     },
     "output_type": "display_data"
    }
   ],
   "source": [
    "sns.catplot(data = df, x = 'language_preferred', hue = 'converted', col = 'landing_page', kind = 'count')"
   ]
  },
  {
   "cell_type": "markdown",
   "metadata": {
    "id": "_jhDPqAttCF-"
   },
   "source": [
    "**Observation**: Users who preferred Spanish and French seemed less likely to convert to subscribers when they saw the old landing page. However, the new landing page saw conversions from users of all language preferences."
   ]
  },
  {
   "cell_type": "markdown",
   "metadata": {
    "id": "4SUSMVI0tKJG"
   },
   "source": [
    "#### Columns: Group, Conversion_status and Time_spent_on_the_page"
   ]
  },
  {
   "cell_type": "code",
   "execution_count": 19,
   "metadata": {
    "colab": {
     "base_uri": "https://localhost:8080/",
     "height": 0
    },
    "id": "N_slA8q9sBOZ",
    "outputId": "0a6b8109-9f12-4eb1-8d8c-53def22d7f48"
   },
   "outputs": [
    {
     "data": {
      "text/plain": [
       "<AxesSubplot:xlabel='group', ylabel='time_spent_on_the_page'>"
      ]
     },
     "execution_count": 19,
     "metadata": {},
     "output_type": "execute_result"
    },
    {
     "data": {
      "image/png": "[encoded data removed]",
      "text/plain": [
       "<Figure size 432x288 with 1 Axes>"
      ]
     },
     "metadata": {
      "needs_background": "light"
     },
     "output_type": "display_data"
    }
   ],
   "source": [
    "sns.barplot(data = df, x = 'group', y = 'time_spent_on_the_page', hue = 'converted')"
   ]
  },
  {
   "cell_type": "markdown",
   "metadata": {
    "id": "f3XV5QButiHf"
   },
   "source": [
    "**Observation**: More individuals converted to subscribers in the treatment group than in the control group. Furthermore, users in the treatment group spent more time on the page compared to participants in the control group."
   ]
  },
  {
   "cell_type": "markdown",
   "metadata": {
    "id": "LMBDDiCqC89B"
   },
   "source": [
    "## **Question 1: Do the users spend more time on the new landing page than the old landing page?**"
   ]
  },
  {
   "cell_type": "markdown",
   "metadata": {
    "id": "r4a2KjLwF4eu"
   },
   "source": [
    "### **Visual Analysis**"
   ]
  },
  {
   "cell_type": "code",
   "execution_count": 20,
   "metadata": {
    "colab": {
     "base_uri": "https://localhost:8080/",
     "height": 0
    },
    "id": "SGPuJMyVIkUY",
    "outputId": "bbfa3904-e011-4e57-bbd6-dc1b1e530f36"
   },
   "outputs": [
    {
     "data": {
      "image/png": "[encoded data removed]",
      "text/plain": [
       "<Figure size 432x288 with 1 Axes>"
      ]
     },
     "metadata": {
      "needs_background": "light"
     },
     "output_type": "display_data"
    }
   ],
   "source": [
    "sns.boxplot(x = 'landing_page', y = 'time_spent_on_the_page', data = df)\n",
    "plt.show()"
   ]
  },
  {
   "cell_type": "markdown",
   "metadata": {
    "id": "LcKQGtMNItyp"
   },
   "source": [
    "**Observations**: The average time spent on the new page seems greater than the old page."
   ]
  },
  {
   "cell_type": "markdown",
   "metadata": {
    "id": "YmRDLMDfI3zr"
   },
   "source": [
    "### **Defining the null and alternate hypotheses**"
   ]
  },
  {
   "cell_type": "markdown",
   "metadata": {
    "id": "ucBcfaDNJdsA"
   },
   "source": [
    "**Null Hypothesis**: The mean time spent by users on the new page is equal to the mean time spent by users on the old page.\n",
    "\n",
    "**Alternative Hypothesis**: The mean time spent by users on the new page is greater than the mean time spent by users on the old page.\n",
    "\n"
   ]
  },
  {
   "cell_type": "code",
   "execution_count": null,
   "metadata": {
    "id": "E8VuQhseL7Ff"
   },
   "outputs": [],
   "source": []
  },
  {
   "cell_type": "markdown",
   "metadata": {
    "id": "A7eWi-ZZLjQl"
   },
   "source": [
    "### **Selecting Appropriate test**"
   ]
  },
  {
   "cell_type": "markdown",
   "metadata": {
    "id": "tbSFhs4xL1gm"
   },
   "source": [
    "This is a one-sided test comparing the means of two independent groups, where the standard deviations of the populations are not known. Given these conditions, **the most suitable approach would be to use a two-sample independent t-test**."
   ]
  },
  {
   "cell_type": "markdown",
   "metadata": {
    "id": "kO49zRJ4MFKI"
   },
   "source": [
    "### **Calculating the p-value**"
   ]
  },
  {
   "cell_type": "markdown",
   "metadata": {
    "id": "gCFVA8NZM6ZB"
   },
   "source": [
    "#### Given data and Assumptions before calculation"
   ]
  },
  {
   "cell_type": "code",
   "execution_count": 21,
   "metadata": {
    "colab": {
     "base_uri": "https://localhost:8080/"
    },
    "id": "-VCxL3xLIlFE",
    "outputId": "e7906f20-4d63-4a45-c7c3-ddb376dad35a"
   },
   "outputs": [
    {
     "name": "stdout",
     "output_type": "stream",
     "text": [
      "The sample standard deviation of the time spent on the new page is: 1.82\n",
      "The sample standard deviation of the time spent on the old page is: 2.58\n"
     ]
    }
   ],
   "source": [
    "# Filtering data based on landing_page\n",
    "\n",
    "spent_time_new = df[df['landing_page'] == 'new']['time_spent_on_the_page']\n",
    "spent_time_old = df[df['landing_page'] == 'old']['time_spent_on_the_page']\n",
    "\n",
    "print('The sample standard deviation of the time spent on the new page is:', round(spent_time_new.std(),2))\n",
    "print('The sample standard deviation of the time spent on the old page is:', round(spent_time_old.std(),2))"
   ]
  },
  {
   "cell_type": "markdown",
   "metadata": {
    "id": "nOJkAsBgNvvW"
   },
   "source": [
    "**Assumptions for the Two-Sample Independent T-Test**:\n",
    "1. Continuous Data - Yes, the duration spent on the pages is recorded on a continuous scale.\n",
    "2. Normal Distribution of Populations - Yes, it is assumed that the populations follow a normal distribution.\n",
    "3. Independence of Samples - Since we are drawing random samples from two separate groups, these samples come from independent populations.\n",
    "4. Different Population Standard Deviations - Given that the sample standard deviations differ, the population standard deviations are also likely different.\n",
    "5. Random Sampling - Yes, the samples are stated to be simple random samples from the respective populations.\n",
    "\n",
    "\n",
    "**Note**: significance level has been assumed as 0.5"
   ]
  },
  {
   "cell_type": "code",
   "execution_count": 22,
   "metadata": {
    "colab": {
     "base_uri": "https://localhost:8080/"
    },
    "id": "RcIak0LRMnUm",
    "outputId": "00ca233b-6ae1-44fa-91ab-7e1e2484a888"
   },
   "outputs": [
    {
     "name": "stdout",
     "output_type": "stream",
     "text": [
      "The p-value is 0.0001392381225166549\n"
     ]
    }
   ],
   "source": [
    "# Calculating p_value for Two-Sample Independence T-Test\n",
    "from scipy.stats import ttest_ind\n",
    "\n",
    "test_stat, p_value =  ttest_ind(spent_time_new, spent_time_old, equal_var = False, alternative = 'greater')\n",
    "\n",
    "print('The p-value is', p_value)"
   ]
  },
  {
   "cell_type": "code",
   "execution_count": 23,
   "metadata": {
    "colab": {
     "base_uri": "https://localhost:8080/"
    },
    "id": "YEcZSgnROkmG",
    "outputId": "45c4a68c-2236-41f6-f2ec-803b603724df"
   },
   "outputs": [
    {
     "name": "stdout",
     "output_type": "stream",
     "text": [
      "Since the p-value 0.0001392381225166549 is below the significance threshold, we conclude that there is enough evidence to reject the null hypothesis.\n"
     ]
    }
   ],
   "source": [
    "if p_value < 0.05:\n",
    "    print(f'Since the p-value {p_value} is below the significance threshold, we conclude that there is enough evidence to reject the null hypothesis.')\n",
    "else:\n",
    "    print(f'Since the p-value {p_value} exceeds the significance threshold, we do not have sufficient evidence to reject the null hypothesis.')"
   ]
  },
  {
   "cell_type": "markdown",
   "metadata": {
    "id": "JhgkteWsPnTh"
   },
   "source": [
    "### **Draw inference**"
   ]
  },
  {
   "cell_type": "markdown",
   "metadata": {
    "id": "AqJEkbvuQGYn"
   },
   "source": [
    "**Since the p-value is much less than the level of significance of 5%, the null hypothesis is rejected. This means that there is significant evidence that the mean time spent by the users on the new page is greater than the mean time spent by the users on the old page.**"
   ]
  },
  {
   "cell_type": "markdown",
   "metadata": {
    "id": "j47A8RJ8QPjs"
   },
   "source": [
    "## **Question 2: Is the conversion rate (the proportion of users who visit the landing page and get converted) for the new page greater than the conversion rate for the old page?**"
   ]
  },
  {
   "cell_type": "markdown",
   "metadata": {
    "id": "JymNQffpQPjz"
   },
   "source": [
    "### **Visual Analysis**"
   ]
  },
  {
   "cell_type": "code",
   "execution_count": 24,
   "metadata": {
    "colab": {
     "base_uri": "https://localhost:8080/",
     "height": 0
    },
    "id": "VfDTE42oQPjz",
    "outputId": "0eb9a722-2ce9-4d69-de80-76d06c97d158"
   },
   "outputs": [
    {
     "name": "stdout",
     "output_type": "stream",
     "text": [
      "converted     no  yes\n",
      "landing_page         \n",
      "new           17   33\n",
      "old           29   21\n"
     ]
    },
    {
     "data": {
      "image/png": "[encoded data removed]",
      "text/plain": [
       "<Figure size 432x288 with 1 Axes>"
      ]
     },
     "metadata": {
      "needs_background": "light"
     },
     "output_type": "display_data"
    }
   ],
   "source": [
    "print(pd.crosstab(df['landing_page'],df['converted']))\n",
    "\n",
    "# Visualize the proportion of the converted status depending on the landing page\n",
    "pd.crosstab(df['landing_page'],df['converted'],normalize='index').plot(kind=\"bar\",stacked=True)\n",
    "plt.legend()\n",
    "plt.show()"
   ]
  },
  {
   "cell_type": "markdown",
   "metadata": {
    "id": "xpEeuHZpQPj0"
   },
   "source": [
    "**Observations**: The new landing page has shown a significant increase in user conversions compared to the older version."
   ]
  },
  {
   "cell_type": "markdown",
   "metadata": {
    "id": "2fs1sVxQQPj0"
   },
   "source": [
    "### **Defining the null and alternate hypotheses**"
   ]
  },
  {
   "cell_type": "markdown",
   "metadata": {
    "id": "nK71Sl1_QPj0"
   },
   "source": [
    "$H_0:$ The conversion rate of the new page is equal to the conversion rate of the old page.\n",
    "\n",
    "$H_a:$ The conversion rate of the new page is greater than the conversion rate of the old page.\n",
    "\n"
   ]
  },
  {
   "cell_type": "markdown",
   "metadata": {
    "id": "I7eHVGk_QPj0"
   },
   "source": [
    "### **Selecting Appropriate test**"
   ]
  },
  {
   "cell_type": "markdown",
   "metadata": {
    "id": "_Xl1EkdtQPj1"
   },
   "source": [
    "This is a one-tailed test concerning two population proportions from two independent populations. **Based on this information, a two sample z-test would be the most appropriate**."
   ]
  },
  {
   "cell_type": "markdown",
   "metadata": {
    "id": "0DbzNUlHQPj1"
   },
   "source": [
    "### **Calculating the p-value**"
   ]
  },
  {
   "cell_type": "markdown",
   "metadata": {
    "id": "btHCLL73QPj1"
   },
   "source": [
    "#### Given data and Assumptions before calculation"
   ]
  },
  {
   "cell_type": "code",
   "execution_count": 25,
   "metadata": {
    "colab": {
     "base_uri": "https://localhost:8080/"
    },
    "id": "OyA5ehsYQPj1",
    "outputId": "ab05bb4d-b50d-4616-a748-d3816eef9a68"
   },
   "outputs": [
    {
     "name": "stdout",
     "output_type": "stream",
     "text": [
      "The numbers of users served the new and old pages are 50 and 50 respectively\n"
     ]
    }
   ],
   "source": [
    "# calculate the number of converted users in the treatment and control groups\n",
    "new_converted = df[df['landing_page'] == 'new']['converted'].value_counts()['yes']\n",
    "old_converted = df[df['landing_page'] == 'old']['converted'].value_counts()['yes']\n",
    "\n",
    "#total number of users in the treatment and control groups\n",
    "n_new = df.landing_page.value_counts()['new']\n",
    "n_old = df.landing_page.value_counts()['old']\n",
    "\n",
    "print('The numbers of users served the new and old pages are {0} and {1} respectively'.format(n_new, n_old ))"
   ]
  },
  {
   "cell_type": "markdown",
   "metadata": {
    "id": "vOiFRAfZQPj1"
   },
   "source": [
    "**Two-proportion z-test assumptions**:\n",
    "\n",
    "*   Binomally distributed population - Yes, a user is either converted or not converted.\n",
    "*   Random sampling from the population - Yes, we are informed that the collected sample is a simple random sample.  \n",
    "*   Can the binomial distribution approximated to normal distribution - Yes.:\n",
    "\n",
    "\n",
    "\n",
    "**Note**: significance level has been assumed as 0.5"
   ]
  },
  {
   "cell_type": "code",
   "execution_count": 26,
   "metadata": {
    "colab": {
     "base_uri": "https://localhost:8080/"
    },
    "id": "mwagf7kKQPj2",
    "outputId": "44f6db39-dc9f-4099-eb75-048a4dadffac"
   },
   "outputs": [
    {
     "name": "stdout",
     "output_type": "stream",
     "text": [
      "The p-value is 0.008026308204056278\n"
     ]
    }
   ],
   "source": [
    "# Perform a two-proportion z-test and determine the p-value\n",
    "from statsmodels.stats.proportion import proportions_ztest\n",
    "\n",
    "test_stat, p_value = proportions_ztest([new_converted, old_converted] , [n_new, n_old], alternative ='larger')\n",
    "\n",
    "print('The p-value is', p_value)"
   ]
  },
  {
   "cell_type": "markdown",
   "metadata": {
    "id": "LNSaDPGiUfd4"
   },
   "source": [
    "**Observation**: As the p-value (~0.008) is less than the level of significance, we can reject the null hypothesis. Hence, we do have enough evidence to support the claim that conversion rate for the new landing page is higher than conversion rate for the old landing page."
   ]
  },
  {
   "cell_type": "markdown",
   "metadata": {
    "id": "fBzLGeIPQPj2"
   },
   "source": [
    "### **Draw inference**"
   ]
  },
  {
   "cell_type": "markdown",
   "metadata": {
    "id": "AYJDu5hvQPj2"
   },
   "source": [
    "**Since the p-value is much less than the level of significance at 5%, the null hypothesis is rejected. This means that their is significant evidence that the conversion rate of the new page is greater than the conversion rate of the old page.**"
   ]
  },
  {
   "cell_type": "markdown",
   "metadata": {
    "id": "gqM2wZDzUzOI"
   },
   "source": [
    "## **Question 3: Does the converted status depend on the preferred language?**"
   ]
  },
  {
   "cell_type": "markdown",
   "metadata": {
    "id": "tuaHloV7UzOO"
   },
   "source": [
    "### **Visual Analysis**"
   ]
  },
  {
   "cell_type": "code",
   "execution_count": 27,
   "metadata": {
    "colab": {
     "base_uri": "https://localhost:8080/",
     "height": 0
    },
    "id": "KhRML39zUzOO",
    "outputId": "03d9f589-fead-4ee4-d778-2ddba63856a1"
   },
   "outputs": [
    {
     "data": {
      "image/png": "[encoded data removed]",
      "text/plain": [
       "<Figure size 432x288 with 1 Axes>"
      ]
     },
     "metadata": {
      "needs_background": "light"
     },
     "output_type": "display_data"
    }
   ],
   "source": [
    "# Visualize the conversion status based on preferred language\n",
    "pd.crosstab(df['language_preferred'],df['converted'],normalize='index').plot(kind=\"bar\", stacked=True)\n",
    "plt.legend()\n",
    "plt.show()"
   ]
  },
  {
   "cell_type": "markdown",
   "metadata": {
    "id": "ICMzQhurUzOP"
   },
   "source": [
    "### **Defining the null and alternate hypotheses**"
   ]
  },
  {
   "cell_type": "markdown",
   "metadata": {
    "id": "m1RrQI41UzOP"
   },
   "source": [
    "$H_0:$ The converted status is independent of the preferred language.\n",
    "\n",
    "$H_a:$ The converted status is dependent of the preferred language."
   ]
  },
  {
   "cell_type": "markdown",
   "metadata": {
    "id": "pkYHx1-1UzOP"
   },
   "source": [
    "### **Selecting Appropriate test**"
   ]
  },
  {
   "cell_type": "markdown",
   "metadata": {
    "id": "4Udzh3u1UzOP"
   },
   "source": [
    "This is a problem of the test of independence, concerning two categorical variables - converted status and preferred language. **Based on this information, a chi-square test for independence would be the most approriate.**"
   ]
  },
  {
   "cell_type": "markdown",
   "metadata": {
    "id": "-5BLQFBnUzOP"
   },
   "source": [
    "### **Calculating the p-value**"
   ]
  },
  {
   "cell_type": "markdown",
   "metadata": {
    "id": "Shc3TQlJUzOQ"
   },
   "source": [
    "#### Given data and Assumptions before calculation"
   ]
  },
  {
   "cell_type": "code",
   "execution_count": 28,
   "metadata": {
    "colab": {
     "base_uri": "https://localhost:8080/"
    },
    "id": "46-5rruiUzOQ",
    "outputId": "d78478f2-6094-4354-a093-6f2c81a35543"
   },
   "outputs": [
    {
     "name": "stdout",
     "output_type": "stream",
     "text": [
      "converted           no  yes\n",
      "language_preferred         \n",
      "English             11   21\n",
      "French              19   15\n",
      "Spanish             16   18\n"
     ]
    }
   ],
   "source": [
    "# Create contingency table for the converted and language_preferred variables\n",
    "contingency_table = pd.crosstab(df['language_preferred'], df['converted'])\n",
    "print(contingency_table)\n"
   ]
  },
  {
   "cell_type": "markdown",
   "metadata": {
    "id": "2Pv8LyVCUzOQ"
   },
   "source": [
    "**Chi-Squared test for independence assumptions**:\n",
    "\n",
    "* Categorical variables - Yes\n",
    "* Expected value of the number of sample observations in each level of the variable is at least 5 - Yes, the number of observations in each level is greater than 5.\n",
    "* Random sampling from the population - Yes, we are informed that the collected sample is a simple random sample.\n",
    "\n",
    "\n",
    "\n",
    "**Note**: significance level has been assumed as 0.5"
   ]
  },
  {
   "cell_type": "markdown",
   "metadata": {
    "id": "AmWCiE2dV6WZ"
   },
   "source": [
    "#### Performing **Chi-squared test for independence**"
   ]
  },
  {
   "cell_type": "code",
   "execution_count": 29,
   "metadata": {
    "colab": {
     "base_uri": "https://localhost:8080/"
    },
    "id": "XxlbAC8KUzOQ",
    "outputId": "59017bde-9d3f-46af-b7de-250c8539d2d1"
   },
   "outputs": [
    {
     "name": "stdout",
     "output_type": "stream",
     "text": [
      "The p-value is 0.2129888748754345\n",
      "As the p-value 0.2129888748754345 is greater than the level of significance, we fail to reject the null hypothesis.\n"
     ]
    }
   ],
   "source": [
    "# Perform a chi-squared test for independence and determine the p-value\n",
    "from scipy.stats import chi2_contingency\n",
    "\n",
    "chi2, p_value, dof, exp_freq = chi2_contingency(contingency_table)\n",
    "\n",
    "print('The p-value is', p_value)\n",
    "\n",
    "# print the conclusion based on p-value\n",
    "if p_value < 0.05:\n",
    "    print(f'As the p-value {p_value} is less than the level of significance, we reject the null hypothesis.')\n",
    "else:\n",
    "    print(f'As the p-value {p_value} is greater than the level of significance, we fail to reject the null hypothesis.')"
   ]
  },
  {
   "cell_type": "markdown",
   "metadata": {
    "id": "8mNYb9O8UzOQ"
   },
   "source": [
    "### **Draw inference**"
   ]
  },
  {
   "cell_type": "markdown",
   "metadata": {
    "id": "sBDYV8LxUzOR"
   },
   "source": [
    "**As the p-value (~0.21) is more than the level of significance, we can not reject the null hypothesis. Hence, we do not have enough evidence to support the claim that conversion rate is dependent on the preferred language.**"
   ]
  },
  {
   "cell_type": "markdown",
   "metadata": {
    "id": "Dlly3B7-WjOv"
   },
   "source": [
    "## **Question 4: Is the mean time spent on the new page same for the different language users?**"
   ]
  },
  {
   "cell_type": "markdown",
   "metadata": {
    "id": "yqWEH_YbWjO1"
   },
   "source": [
    "### **Visual Analysis**"
   ]
  },
  {
   "cell_type": "code",
   "execution_count": 30,
   "metadata": {
    "colab": {
     "base_uri": "https://localhost:8080/",
     "height": 545
    },
    "id": "XcdxBw3dWjO1",
    "outputId": "46ad0769-77e9-4007-a54b-895a837911de"
   },
   "outputs": [
    {
     "name": "stdout",
     "output_type": "stream",
     "text": [
      "language_preferred\n",
      "English    6.663750\n",
      "French     6.196471\n",
      "Spanish    5.835294\n",
      "Name: time_spent_on_the_page, dtype: float64\n"
     ]
    },
    {
     "data": {
      "image/png": "[encoded data removed]",
      "text/plain": [
       "<Figure size 432x288 with 1 Axes>"
      ]
     },
     "metadata": {
      "needs_background": "light"
     },
     "output_type": "display_data"
    }
   ],
   "source": [
    "df_new = df[df['landing_page'] == 'new']\n",
    "\n",
    "# calculate the mean time spent on the new page for different language users\n",
    "print(df_new.groupby(['language_preferred'])['time_spent_on_the_page'].mean())\n",
    "\n",
    "# Visualize the time spent on the new page for different language users\n",
    "sns.boxplot(x = 'language_preferred', y = 'time_spent_on_the_page', showmeans = True, data = df_new)\n",
    "plt.show()"
   ]
  },
  {
   "cell_type": "markdown",
   "metadata": {
    "id": "PyyUwy3iWjO2"
   },
   "source": [
    "### **Defining the null and alternate hypotheses**"
   ]
  },
  {
   "cell_type": "markdown",
   "metadata": {
    "id": "RkqBIEqJWjO2"
   },
   "source": [
    "$H_0:$ The mean time spent on the new lading page is the same across all preferred langauges.\n",
    "\n",
    "$H_a:$ At least one of the mean times spent on the new landing page is different amongst the preferred languages.\n"
   ]
  },
  {
   "cell_type": "markdown",
   "metadata": {
    "id": "RURT4ubVWjO2"
   },
   "source": [
    "### **Selecting Appropriate test**"
   ]
  },
  {
   "cell_type": "markdown",
   "metadata": {
    "id": "AvJygxZEWjO2"
   },
   "source": [
    "This is a problem, concerning three population means. **Based on this information, a one-way ANOVA test would be the most appropriate.**"
   ]
  },
  {
   "cell_type": "markdown",
   "metadata": {
    "id": "jX3iqphsWjO2"
   },
   "source": [
    "### **Calculating the p-value**"
   ]
  },
  {
   "cell_type": "markdown",
   "metadata": {
    "id": "l98ifVbuWjO2"
   },
   "source": [
    "#### Given data and Assumptions before calculation"
   ]
  },
  {
   "cell_type": "code",
   "execution_count": 31,
   "metadata": {
    "id": "gBPKqhAbWjO2"
   },
   "outputs": [],
   "source": [
    "# create new subsets for the time spent on the new page for each preferred language\n",
    "spent_time_English = df_new[df_new['language_preferred']==\"English\"]['time_spent_on_the_page']\n",
    "spent_time_French = df_new[df_new['language_preferred']=='French']['time_spent_on_the_page']\n",
    "spent_time_Spanish = df_new[df_new['language_preferred']=='Spanish']['time_spent_on_the_page']"
   ]
  },
  {
   "cell_type": "markdown",
   "metadata": {
    "id": "CF17xfvSX_DH"
   },
   "source": [
    "##### **Shapiro-Wilk’s test**\n",
    ">$H_0:$ Carbon emission follows a normal distribution\n",
    "\n",
    ">$H_a:$ Carbon emission does not follow a normal distribution"
   ]
  },
  {
   "cell_type": "code",
   "execution_count": 32,
   "metadata": {
    "colab": {
     "base_uri": "https://localhost:8080/"
    },
    "id": "IT2_eYPgYHPH",
    "outputId": "03983b25-e4c9-46d6-acc0-5353c8180ae4"
   },
   "outputs": [
    {
     "name": "stdout",
     "output_type": "stream",
     "text": [
      "The p-value is 0.8040016293525696\n"
     ]
    }
   ],
   "source": [
    "# perform the Shapiro-Wilk's test and get the p-value\n",
    "from scipy import stats\n",
    "\n",
    "w, p_value = stats.shapiro(df_new['time_spent_on_the_page'])\n",
    "print('The p-value is', p_value)"
   ]
  },
  {
   "cell_type": "markdown",
   "metadata": {
    "id": "76B3BYUcYNef"
   },
   "source": [
    "**Since p-value of the test is very large, we fail to reject the null hypothesis, meaning the response follows a normal distribution.**"
   ]
  },
  {
   "cell_type": "markdown",
   "metadata": {
    "id": "1lWBk5PQWjO3"
   },
   "source": [
    "**One-way ANOVA test assumptions**:\n",
    "\n",
    "* The populations are normally distributed - Yes, the normality assumption is verified using the Shapiro-Wilk’s test.\n",
    "* Samples are independent simple random samples - Yes, we are informed that the collected sample is a simple random sample.\n",
    "* Population variances are equal - Yes, the homogeneity of variance assumption is verified using the Levene's test.\n",
    "\n",
    "\n",
    "\n",
    "\n",
    "**Note**: significance level has been assumed as 0.5"
   ]
  },
  {
   "cell_type": "markdown",
   "metadata": {
    "id": "JPoyQObtYYmu"
   },
   "source": [
    "##### **Levene’s test**\n",
    ">$H_0$: All the population variances are equal\n",
    "\n",
    ">$H_a$: At least one variance is different from the rest"
   ]
  },
  {
   "cell_type": "code",
   "execution_count": 33,
   "metadata": {
    "colab": {
     "base_uri": "https://localhost:8080/"
    },
    "id": "1v2pIVF8YYm1",
    "outputId": "3898e37b-4f6a-454e-aaaa-74af9a4fa0bb"
   },
   "outputs": [
    {
     "name": "stdout",
     "output_type": "stream",
     "text": [
      "The p-value is 0.46711357711340173\n"
     ]
    }
   ],
   "source": [
    "# perform the Levene's test and get the p-value\n",
    "from scipy.stats import levene\n",
    "\n",
    "statistic, p_value = stats.levene(df_new[df_new['language_preferred']=='English']['time_spent_on_the_page'],\n",
    "                            df_new[df_new['language_preferred']=='French']['time_spent_on_the_page'],\n",
    "                            df_new[df_new['language_preferred']=='Spanish']['time_spent_on_the_page'])\n",
    "print('The p-value is', p_value)"
   ]
  },
  {
   "cell_type": "markdown",
   "metadata": {
    "id": "cZ8m2aG2YYm1"
   },
   "source": [
    "**Since the p-value is large, we fail to reject the null hypothesis, meaning the variances are equal.**"
   ]
  },
  {
   "cell_type": "markdown",
   "metadata": {
    "id": "7LwwxLRKYYm1"
   },
   "source": [
    "##### **One-way ANOVA test assumptions**:\n",
    "\n",
    "* The populations are normally distributed - Yes, the normality assumption is verified using the Shapiro-Wilk’s test.\n",
    "* Samples are independent simple random samples - Yes, we are informed that the collected sample is a simple random sample.\n",
    "* Population variances are equal - Yes, the homogeneity of variance assumption is verified using the Levene's test.\n",
    "\n",
    "\n",
    "\n",
    "\n",
    "**Note**: significance level has been assumed as 0.5"
   ]
  },
  {
   "cell_type": "markdown",
   "metadata": {
    "id": "khnQ-upGWjO3"
   },
   "source": [
    "#### Performing **One-way ANOVA test**"
   ]
  },
  {
   "cell_type": "code",
   "execution_count": 34,
   "metadata": {
    "colab": {
     "base_uri": "https://localhost:8080/"
    },
    "id": "9A-smZ6PWjO3",
    "outputId": "c2c9329a-1925-4a72-9f0e-7245436735f4"
   },
   "outputs": [
    {
     "name": "stdout",
     "output_type": "stream",
     "text": [
      "The p-value is 0.43204138694325955\n"
     ]
    }
   ],
   "source": [
    "# Perform a one-way ANOVA test and determine the p-value\n",
    "from scipy.stats import f_oneway\n",
    "\n",
    "test_stat, p_value = f_oneway(spent_time_English, spent_time_French, spent_time_Spanish)\n",
    "\n",
    "print('The p-value is', p_value)"
   ]
  },
  {
   "cell_type": "markdown",
   "metadata": {
    "id": "ggCkDTyFWjO3"
   },
   "source": [
    "### **Draw inference**"
   ]
  },
  {
   "cell_type": "markdown",
   "metadata": {
    "id": "6jUwJDrYWjO3"
   },
   "source": [
    "**Since the p-value is greater than the level of significance at 5%, the null hypothesis fails to be rejected. This means that the mean time spent on the new landing page is relatively similar regardless of the preferred language.**"
   ]
  },
  {
   "cell_type": "markdown",
   "metadata": {
    "id": "ZZ-4mSjkZaYG"
   },
   "source": [
    "## **Conclusion and Business Recommendations**"
   ]
  },
  {
   "cell_type": "markdown",
   "metadata": {
    "id": "9LNSC11GZdNj"
   },
   "source": [
    "###**Conclusions**:\n",
    "* To determine if users spend more time on the new landing page compared to the existing one, a two-sample independent t-test was conducted. The test yielded a p-value of 0.0001, which is below the 5% significance level. This result leads us to reject the null hypothesis, indicating strong evidence that users spend significantly more time on the new page than on the old page.\n",
    "\n",
    "* In assessing whether the conversion rate for the new page exceeds that of the old page, a two-proportion z-test was used. The resulting p-value of 0.008 is also less than the 5% significance level, leading to the rejection of the null hypothesis. This suggests substantial evidence that the new landing page has a higher conversion rate compared to the old page.\n",
    "\n",
    "* A chi-square test for independence was performed to investigate the relationship between conversion status and preferred language. The p-value of 0.213 exceeded the 5% significance level, so we fail to reject the null hypothesis. This implies that conversion status and preferred language are independent of each other.\n",
    "\n",
    "* To examine if the time spent on the new landing page varies with preferred language, a one-way ANOVA test was conducted. With a p-value of 0.432, which is above the 5% significance level, we fail to reject the null hypothesis. This indicates that the average time spent on the new landing page is similar across different preferred languages.\n"
   ]
  },
  {
   "cell_type": "markdown",
   "metadata": {
    "id": "ycf-hFZ4aOUv"
   },
   "source": [
    "\n",
    "### **Recommendations**:\n",
    "* E-News Express should fully implement the new landing page, as it attracts significantly more user engagement than the old one. The increased time spent on the new page suggests that it is favored by users.\n",
    "\n",
    "* It may be prudent to phase out the old landing page, given its minimal impact on average time spent and conversion rate. The new landing page demonstrates a higher conversion rate, warranting increased resources and focus.\n",
    "\n",
    "* Deploy the new landing page with all existing preferred languages, as there is no significant difference in average time spent across these languages. This ensures that conversion rates will be consistent. Additionally, consider adding more languages to the platform to broaden the audience reach."
   ]
  }
 ],
 "metadata": {
  "colab": {
   "provenance": []
  },
  "kernelspec": {
   "display_name": "Python 3",
   "language": "python",
   "name": "python3"
  },
  "language_info": {
   "codemirror_mode": {
    "name": "ipython",
    "version": 3
   },
   "file_extension": ".py",
   "mimetype": "text/x-python",
   "name": "python",
   "nbconvert_exporter": "python",
   "pygments_lexer": "ipython3",
   "version": "3.8.8"
  }
 },
 "nbformat": 4,
 "nbformat_minor": 1
}
